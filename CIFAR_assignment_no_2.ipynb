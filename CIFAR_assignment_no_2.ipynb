{
  "cells": [
    {
      "cell_type": "code",
      "execution_count": 14,
      "id": "2ce32a4f",
      "metadata": {
        "id": "2ce32a4f"
      },
      "outputs": [],
      "source": [
        "# Import necessary libraries\n",
        "import numpy as np\n",
        "from sklearn.linear_model import LogisticRegression\n",
        "from tensorflow.keras.datasets import cifar10\n",
        "from sklearn.model_selection import train_test_split\n",
        "from sklearn.metrics import accuracy_score, classification_report, confusion_matrix\n",
        "# Load CIFAR-10 dataset from Keras\n",
        "(X_train, y_train), (X_test, y_test) = cifar10.load_data()"
      ]
    },
    {
      "cell_type": "code",
      "source": [
        "# Reshape the data\n",
        "X_train = X_train.reshape(X_train.shape[0], -1)\n",
        "X_test = X_test.reshape(X_test.shape[0], -1)\n",
        "\n",
        "# Normalize the data\n",
        "X_train = X_train.astype('float32') / 255\n",
        "X_test = X_test.astype('float32') / 255"
      ],
      "metadata": {
        "id": "Le4eVS3k-Uwa"
      },
      "id": "Le4eVS3k-Uwa",
      "execution_count": 15,
      "outputs": []
    },
    {
      "cell_type": "code",
      "execution_count": 16,
      "id": "3ce9604d",
      "metadata": {
        "id": "3ce9604d"
      },
      "outputs": [],
      "source": [
        "# Flatten the labels\n",
        "y_train = y_train.flatten()\n",
        "y_test = y_test.flatten()"
      ]
    },
    {
      "cell_type": "code",
      "execution_count": 17,
      "id": "cb16bc3f",
      "metadata": {
        "id": "cb16bc3f"
      },
      "outputs": [],
      "source": [
        "# Initialize the Logistic Regression model\n",
        "model = LogisticRegression()"
      ]
    },
    {
      "cell_type": "code",
      "execution_count": 18,
      "id": "2dfd0e32",
      "metadata": {
        "colab": {
          "base_uri": "https://localhost:8080/"
        },
        "id": "2dfd0e32",
        "outputId": "20eec74a-c6c4-4176-a3c8-e0ef0565c1fb"
      },
      "outputs": [
        {
          "output_type": "stream",
          "name": "stderr",
          "text": [
            "/usr/local/lib/python3.10/dist-packages/sklearn/linear_model/_logistic.py:458: ConvergenceWarning: lbfgs failed to converge (status=1):\n",
            "STOP: TOTAL NO. of ITERATIONS REACHED LIMIT.\n",
            "\n",
            "Increase the number of iterations (max_iter) or scale the data as shown in:\n",
            "    https://scikit-learn.org/stable/modules/preprocessing.html\n",
            "Please also refer to the documentation for alternative solver options:\n",
            "    https://scikit-learn.org/stable/modules/linear_model.html#logistic-regression\n",
            "  n_iter_i = _check_optimize_result(\n"
          ]
        },
        {
          "output_type": "stream",
          "name": "stdout",
          "text": [
            "Accuracy of Logistic Regression on CIFAR-10: 40.51%\n",
            "Accuracy of Logistic Regression on CIFAR-10: 40.51%\n"
          ]
        }
      ],
      "source": [
        "# Train the model\n",
        "model.fit(X_train, y_train)\n",
        "\n",
        "# Make predictions\n",
        "predictions = model.predict(X_test)\n",
        "\n",
        "# Calculate accuracy\n",
        "accuracy = accuracy_score(y_test, predictions)\n",
        "\n",
        "print(\"Accuracy of Logistic Regression on CIFAR-10: {:.2f}%\".format(accuracy * 100))\n",
        "print(\"Accuracy of Logistic Regression on CIFAR-10: {:.2f}%\".format(accuracy * 100))"
      ]
    },
    {
      "cell_type": "code",
      "source": [
        "# Print classification report\n",
        "print(\"Classification Report:\")\n",
        "print(classification_report(y_test, predictions))\n",
        "\n",
        "# Print confusion matrix\n",
        "print(\"Confusion Matrix:\")\n",
        "print(confusion_matrix(y_test, predictions))"
      ],
      "metadata": {
        "colab": {
          "base_uri": "https://localhost:8080/"
        },
        "id": "Fak328J4_EcR",
        "outputId": "256bed72-821a-4ed4-a3f7-eabd39dc1168"
      },
      "id": "Fak328J4_EcR",
      "execution_count": 19,
      "outputs": [
        {
          "output_type": "stream",
          "name": "stdout",
          "text": [
            "Classification Report:\n",
            "              precision    recall  f1-score   support\n",
            "\n",
            "           0       0.43      0.48      0.45      1000\n",
            "           1       0.47      0.49      0.48      1000\n",
            "           2       0.32      0.28      0.30      1000\n",
            "           3       0.31      0.23      0.27      1000\n",
            "           4       0.36      0.29      0.32      1000\n",
            "           5       0.33      0.37      0.35      1000\n",
            "           6       0.42      0.49      0.45      1000\n",
            "           7       0.46      0.44      0.45      1000\n",
            "           8       0.47      0.52      0.49      1000\n",
            "           9       0.43      0.46      0.44      1000\n",
            "\n",
            "    accuracy                           0.41     10000\n",
            "   macro avg       0.40      0.41      0.40     10000\n",
            "weighted avg       0.40      0.41      0.40     10000\n",
            "\n",
            "Confusion Matrix:\n",
            "[[479  42  59  30  19  38  26  53 184  70]\n",
            " [ 60 494  21  28  22  41  37  53  78 166]\n",
            " [112  47 276  80 115  93 138  67  48  24]\n",
            " [ 42  60  96 235  56 218 127  48  45  73]\n",
            " [ 57  28 135  47 291 106 158 121  32  25]\n",
            " [ 42  44  91 136  81 372  88  72  41  33]\n",
            " [ 15  34  73 107  98  95 489  39  23  27]\n",
            " [ 49  44  72  48  90  85  48 444  42  78]\n",
            " [184  67  20  20   9  53   8  19 515 105]\n",
            " [ 83 190  20  20  17  31  41  48  94 456]]\n"
          ]
        }
      ]
    },
    {
      "cell_type": "markdown",
      "source": [
        "## Applying CV on Colored Image\n"
      ],
      "metadata": {
        "id": "H4vWcG7yHyzL"
      },
      "id": "H4vWcG7yHyzL"
    },
    {
      "cell_type": "code",
      "source": [
        "from sklearn.model_selection import cross_val_score\n",
        "for k in [3, 5, 10]:\n",
        "    scores = cross_val_score(model, X_train_gray, y_train, cv=k)\n",
        "    avg_accuracy = np.mean(scores)\n",
        "    print(f\"Average Accuracy for k={k} cross-validation: {avg_accuracy * 100:.2f}%\")"
      ],
      "metadata": {
        "colab": {
          "base_uri": "https://localhost:8080/"
        },
        "id": "JB9kWxjQGZO_",
        "outputId": "a2cc2dbf-8292-4c7c-bce4-0f626a199693"
      },
      "id": "JB9kWxjQGZO_",
      "execution_count": 21,
      "outputs": [
        {
          "output_type": "stream",
          "name": "stdout",
          "text": [
            "Average Accuracy for k=3 cross-validation: 15.52%\n",
            "Average Accuracy for k=5 cross-validation: 22.56%\n",
            "Average Accuracy for k=10 cross-validation: 22.56%\n"
          ]
        }
      ]
    },
    {
      "cell_type": "markdown",
      "source": [
        "## Applying on grayscale"
      ],
      "metadata": {
        "id": "8ilhvVKR_Q8W"
      },
      "id": "8ilhvVKR_Q8W"
    },
    {
      "cell_type": "code",
      "source": [
        "# Import necessary libraries\n",
        "import numpy as np\n",
        "from sklearn.linear_model import LogisticRegression\n",
        "from tensorflow.keras.datasets import cifar10\n",
        "from sklearn.model_selection import train_test_split\n",
        "from sklearn.metrics import accuracy_score\n",
        "from skimage.color import rgb2gray\n",
        "\n",
        "# Load CIFAR-10 dataset from Keras\n",
        "(X_train, y_train), (X_test, y_test) = cifar10.load_data()\n",
        "\n",
        "# Convert RGB images to grayscale\n",
        "X_train_gray = rgb2gray(X_train)\n",
        "X_test_gray = rgb2gray(X_test)\n",
        "\n",
        "# Reshape the data\n",
        "X_train_gray = X_train_gray.reshape(X_train_gray.shape[0], -1)\n",
        "X_test_gray = X_test_gray.reshape(X_test_gray.shape[0], -1)\n",
        "\n",
        "# Normalize the data\n",
        "X_train_gray = X_train_gray.astype('float32') / 255\n",
        "X_test_gray = X_test_gray.astype('float32') / 255\n",
        "\n",
        "# Flatten the labels\n",
        "y_train = y_train.flatten()\n",
        "y_test = y_test.flatten()"
      ],
      "metadata": {
        "id": "PjAHupmr_E0G"
      },
      "id": "PjAHupmr_E0G",
      "execution_count": null,
      "outputs": []
    },
    {
      "cell_type": "code",
      "source": [
        "# Reshape the data\n",
        "X_train_gray = X_train_gray.reshape(X_train_gray.shape[0], -1)\n",
        "X_test_gray = X_test_gray.reshape(X_test_gray.shape[0], -1)\n",
        "\n",
        "# Normalize the data\n",
        "X_train_gray = X_train_gray.astype('float32') / 255\n",
        "X_test_gray = X_test_gray.astype('float32') / 255\n",
        "\n",
        "# Flatten the labels\n",
        "y_train = y_train.flatten()\n",
        "y_test = y_test.flatten()"
      ],
      "metadata": {
        "id": "3fBuckf2_K72"
      },
      "id": "3fBuckf2_K72",
      "execution_count": null,
      "outputs": []
    },
    {
      "cell_type": "code",
      "source": [
        "# Initialize the Logistic Regression model\n",
        "model = LogisticRegression(max_iter=1000)\n",
        "\n",
        "# Train the model\n",
        "model.fit(X_train_gray, y_train)\n",
        "\n",
        "# Make predictions\n",
        "predictions = model.predict(X_test_gray)\n",
        "\n",
        "# Calculate accuracy\n",
        "accuracy = accuracy_score(y_test, predictions)\n",
        "\n",
        "print(\"Accuracy of Logistic Regression on Grayscale CIFAR-10: {:.2f}%\".format(accuracy * 100))"
      ],
      "metadata": {
        "id": "59FGG_J8_OTx"
      },
      "id": "59FGG_J8_OTx",
      "execution_count": null,
      "outputs": []
    },
    {
      "cell_type": "code",
      "source": [
        "# Print classification report\n",
        "print(\"Classification Report:\")\n",
        "print(classification_report(y_test, predictions))\n",
        "\n",
        "# Print confusion matrix\n",
        "print(\"Confusion Matrix:\")\n",
        "print(confusion_matrix(y_test, predictions))\n"
      ],
      "metadata": {
        "id": "7TbSiFiqANhQ"
      },
      "id": "7TbSiFiqANhQ",
      "execution_count": null,
      "outputs": []
    },
    {
      "cell_type": "markdown",
      "source": [
        "## Applying CV on Grayscale"
      ],
      "metadata": {
        "id": "6NdkyVeTHmam"
      },
      "id": "6NdkyVeTHmam"
    },
    {
      "cell_type": "code",
      "source": [
        "from sklearn.model_selection import cross_val_score\n",
        "for k in [3, 5, 10]:\n",
        "    scores = cross_val_score(model, X_train_gray, y_train, cv=k)\n",
        "    avg_accuracy = np.mean(scores)\n",
        "    print(f\"Average Accuracy for k={k} cross-validation: {avg_accuracy * 100:.2f}%\")"
      ],
      "metadata": {
        "id": "f-_R6HQfHh5P"
      },
      "id": "f-_R6HQfHh5P",
      "execution_count": null,
      "outputs": []
    }
  ],
  "metadata": {
    "kernelspec": {
      "display_name": "Python 3",
      "name": "python3"
    },
    "language_info": {
      "codemirror_mode": {
        "name": "ipython",
        "version": 3
      },
      "file_extension": ".py",
      "mimetype": "text/x-python",
      "name": "python",
      "nbconvert_exporter": "python",
      "pygments_lexer": "ipython3",
      "version": "3.10.9"
    },
    "colab": {
      "provenance": []
    },
    "accelerator": "TPU"
  },
  "nbformat": 4,
  "nbformat_minor": 5
}